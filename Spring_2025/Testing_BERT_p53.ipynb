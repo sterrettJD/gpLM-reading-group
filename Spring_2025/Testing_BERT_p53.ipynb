{
 "cells": [
  {
   "cell_type": "markdown",
   "id": "75d2212e-eca1-4a63-b64b-0e32965d128a",
   "metadata": {},
   "source": [
    "# Testing out DNA-BERT2 with Real data: May 12, 2025\n",
    "Research Objectives:\n",
    "* I have enhancers that were upregulated in response to transcription factor p53 being activated. Many of these calls are enriched in p53 motifs.\n",
    "* I want to see if I can capture the p53 motif AND the other sequence factors determining if a sequence is being upregulated in response to p53 being activated.\n",
    "\n",
    "Learning Objectives\n",
    "* Dealing with imbalanced classes to call (e.g. way more 0s than 1s)\n",
    "* Assessing a model beyond simple accuracy"
   ]
  },
  {
   "cell_type": "markdown",
   "id": "784bfdba-3518-46ae-ba95-d29e01bd23f1",
   "metadata": {},
   "source": [
    "## 1. Installations"
   ]
  },
  {
   "cell_type": "code",
   "execution_count": 2,
   "id": "b0d31385-7349-4db6-8fbd-943f2b7f13e3",
   "metadata": {},
   "outputs": [
    {
     "name": "stderr",
     "output_type": "stream",
     "text": [
      "/Users/hopekirby/.pyenv/versions/3.8.20/lib/python3.8/site-packages/tqdm/auto.py:21: TqdmWarning: IProgress not found. Please update jupyter and ipywidgets. See https://ipywidgets.readthedocs.io/en/stable/user_install.html\n",
      "  from .autonotebook import tqdm as notebook_tqdm\n"
     ]
    }
   ],
   "source": [
    "# =============================\n",
    "#  1. Install the necessary libraries\n",
    "# =============================\n",
    "# !pip install transformers datasets torch scikit-learn\n",
    "# !pip install shap\n",
    "# !pip install matplotlib\n",
    "\n",
    "# =============================\n",
    "#  2. Import Libraries\n",
    "# =============================\n",
    "import matplotlib\n",
    "import torch\n",
    "import pickle\n",
    "import pandas as pd\n",
    "import random\n",
    "import shap\n",
    "import numpy as np\n",
    "from transformers import AutoTokenizer, AutoModelForSequenceClassification, Trainer, TrainingArguments\n",
    "from datasets import load_dataset, Dataset\n",
    "from sklearn.model_selection import train_test_split\n",
    "from sklearn.metrics import accuracy_score\n"
   ]
  },
  {
   "cell_type": "markdown",
   "id": "66cf8ed3-dad5-4379-9a8d-b7937b2fe2d8",
   "metadata": {},
   "source": [
    "## 2. Reading in the Dataset\n",
    "1. Read in the full list of enhancers and only consider those that are not at Gene transcription start sites\n",
    "2. LE_res is a dataframe with columns corresponding to different celltypes and ways to capture the enhancers changing transcription in response to p53 activation\n",
    "3. I can then get the list of enhancers that are class 1 (On - changing transcription with p53) or 0 (Off - no response to p53 actiation)\n",
    "4. Balance on and off calls\n",
    "5. Get the sequences of these regions (bed file to fasta file)"
   ]
  },
  {
   "cell_type": "code",
   "execution_count": 3,
   "id": "ee1a3cb5-6f35-4dd9-836e-48ec837d5221",
   "metadata": {},
   "outputs": [
    {
     "name": "stdout",
     "output_type": "stream",
     "text": [
      "153291\n"
     ]
    }
   ],
   "source": [
    "# Read in the full list of enhancers\n",
    "ranked_df = pd.read_csv(\"~/Desktop/TF_Enh_Linking/Bench_DE/p53/bin/p53_AndryJones7_MUMERGE_10kbwin_tfit,dreg_03-27-24.sorted.bed\", \n",
    "                       sep=\"\\t\", header=None)\n",
    "ranked_df.iloc[0:2,]\n",
    "\n",
    "ranked_df['mu'] = (ranked_df.iloc[:, 1].astype(int) + ranked_df.iloc[:, 2].astype(int)) // 2\n",
    "ranked_df['Name'] = ranked_df.iloc[:, 0].astype(str) + \":\" + ranked_df['mu'].astype(str)\n",
    "ranked_df.iloc[0:2,]\n",
    "\n",
    "# Only consider the regions NOT at gene transcription start sites\n",
    "tss_df = pd.read_csv(\"/Users/hopekirby/Desktop/TF_Enh_Linking/Bench_DE/p53/data/counts/tss_bid_AndryJones7_50bpwin_03-28-24.txt\", sep='\\t')\n",
    "# Get unique BidID values, dropping any NA\n",
    "tss_df['mu'] = (tss_df.iloc[:, 1].astype(int) + tss_df.iloc[:, 2].astype(int)) // 2\n",
    "tss_df['Name'] = tss_df.iloc[:, 0].astype(str) + \":\" + tss_df['mu'].astype(str)\n",
    "tss = set(tss_df['Name'].dropna())\n",
    "# Compute the difference\n",
    "all_enhancers = set(ranked_df['Name'].dropna()) - tss\n",
    "print(len(all_enhancers))"
   ]
  },
  {
   "cell_type": "code",
   "execution_count": 25,
   "id": "97a4df27-f972-47fd-9722-a9d5182d73ca",
   "metadata": {},
   "outputs": [
    {
     "data": {
      "text/html": [
       "<div>\n",
       "<style scoped>\n",
       "    .dataframe tbody tr th:only-of-type {\n",
       "        vertical-align: middle;\n",
       "    }\n",
       "\n",
       "    .dataframe tbody tr th {\n",
       "        vertical-align: top;\n",
       "    }\n",
       "\n",
       "    .dataframe thead th {\n",
       "        text-align: right;\n",
       "    }\n",
       "</style>\n",
       "<table border=\"1\" class=\"dataframe\">\n",
       "  <thead>\n",
       "    <tr style=\"text-align: right;\">\n",
       "      <th></th>\n",
       "      <th>MCF7_p05</th>\n",
       "      <th>MCF7_mu500_PE</th>\n",
       "      <th>SJSA_p05</th>\n",
       "      <th>SJSA_mu500_PE</th>\n",
       "      <th>HCT116_p05</th>\n",
       "      <th>HCT116_mu500_PE</th>\n",
       "    </tr>\n",
       "  </thead>\n",
       "  <tbody>\n",
       "    <tr>\n",
       "      <th>0</th>\n",
       "      <td>chr1:115839386</td>\n",
       "      <td>chr1:115839386</td>\n",
       "      <td>chr12:68787452</td>\n",
       "      <td>chr8:142815892</td>\n",
       "      <td>chr8:142815892</td>\n",
       "      <td>chr8:142815892</td>\n",
       "    </tr>\n",
       "    <tr>\n",
       "      <th>1</th>\n",
       "      <td>chr19:55601389</td>\n",
       "      <td>chr19:55601389</td>\n",
       "      <td>chr8:142815892</td>\n",
       "      <td>chr11:5690483</td>\n",
       "      <td>chr1:27343089</td>\n",
       "      <td>chr6:36667358</td>\n",
       "    </tr>\n",
       "  </tbody>\n",
       "</table>\n",
       "</div>"
      ],
      "text/plain": [
       "         MCF7_p05   MCF7_mu500_PE        SJSA_p05   SJSA_mu500_PE  \\\n",
       "0  chr1:115839386  chr1:115839386  chr12:68787452  chr8:142815892   \n",
       "1  chr19:55601389  chr19:55601389  chr8:142815892   chr11:5690483   \n",
       "\n",
       "       HCT116_p05 HCT116_mu500_PE  \n",
       "0  chr8:142815892  chr8:142815892  \n",
       "1   chr1:27343089   chr6:36667358  "
      ]
     },
     "execution_count": 25,
     "metadata": {},
     "output_type": "execute_result"
    }
   ],
   "source": [
    "# Read in enhancers changing transcription with p53\n",
    "LE_res = pd.read_csv(\"/Users/hopekirby/Desktop/TF_Enh_Linking/Bench_DE/p53/bin/LE_P53_Results.csv\")\n",
    "LE_res.iloc[0:2,]\n"
   ]
  },
  {
   "cell_type": "code",
   "execution_count": 26,
   "id": "c22a6812-cc32-4ad8-82a8-89d3c86ab742",
   "metadata": {},
   "outputs": [
    {
     "name": "stdout",
     "output_type": "stream",
     "text": [
      "209 153082 320 152971 511 152780\n"
     ]
    }
   ],
   "source": [
    "# Get the list of Off and On\n",
    "\n",
    "MCF7_on = set(LE_res.MCF7_mu500_PE.dropna())\n",
    "MCF7_off = all_enhancers - MCF7_on\n",
    "\n",
    "SJSA_on = set(LE_res.SJSA_mu500_PE.dropna())\n",
    "SJSA_off = all_enhancers - SJSA_on\n",
    "\n",
    "HCT116_on = set(LE_res.HCT116_mu500_PE.dropna())\n",
    "HCT116_off = all_enhancers - HCT116_on\n",
    "\n",
    "print(len(MCF7_on), len(MCF7_off), \n",
    "      len(SJSA_on), len(SJSA_off), \n",
    "      len(HCT116_on), len(HCT116_off))"
   ]
  },
  {
   "cell_type": "markdown",
   "id": "d4692f00-1a84-436b-91f1-4da63a594e61",
   "metadata": {},
   "source": [
    "### A. Trying to Balance On vs Off calls\n",
    "I have 150,000+ Off regions and 200-511 On regions. That is super unbalanced. Models can get confused since they might perform really well on the off regions but horribly on the on regions. In a balanced dataset, this would clearly show up in the error, but if most of the dataset is off then the model is performing well on most of the dataset and so the accuracy would actually be really good still.\n",
    "Therefore, I am going to take a random sample of about 2,000 of the off regions."
   ]
  },
  {
   "cell_type": "code",
   "execution_count": 29,
   "id": "91c8b236-885d-4f13-b14b-ec941055717b",
   "metadata": {},
   "outputs": [
    {
     "data": {
      "text/plain": [
       "2000"
      ]
     },
     "execution_count": 29,
     "metadata": {},
     "output_type": "execute_result"
    }
   ],
   "source": [
    "## Rath\n",
    "MCF7_off_sample = random.sample(MCF7_off, 2000)\n",
    "len(MCF7_off_sample)\n",
    "SJSA_off_sample = random.sample(SJSA_off, 2000)\n",
    "len(SJSA_off_sample)\n",
    "HCT116_off_sample = random.sample(HCT116_off, 2000)\n",
    "len(HCT116_off_sample)"
   ]
  },
  {
   "cell_type": "markdown",
   "id": "0b179059-7827-4344-a2b3-94ec77bb27e1",
   "metadata": {},
   "source": [
    "### B. Get FASTA sequences (e.g. ATGC) for the sequences of interest\n",
    "* I am using 500bp regions since I expect Transcription Factor motifs to likely be within this range and also not have to use too much computational power\n",
    "* Get_bed_regions gets the 500bp regions of the on and off regions to a bed file. I can then convert these bedfiles to fasta files (with sequences) by using ```bedtools getfasta```\n",
    "* Then get_on_off_df function reads in the fasta files, only getting the sequences, and gives on regions a label of 1 and off regions a label of 0 in a dataframe."
   ]
  },
  {
   "cell_type": "code",
   "execution_count": 36,
   "id": "6a793903-e2c4-4145-b914-d58c1b5cc0bc",
   "metadata": {},
   "outputs": [],
   "source": [
    "# save the regions as bed files with 500bp regions\n",
    "#MCF7_on\n",
    "def get_bed_regions(on, off, on_name, off_name):\n",
    "    # Example inputs: MCF7_on and MCF7_off_sample should be sets/lists of strings like \"chr1:123456\"\n",
    "    on_df = pd.DataFrame([s.split(\":\") for s in MCF7_on], columns=['chrom', 'pos'])\n",
    "    off_df = pd.DataFrame([s.split(\":\") for s in MCF7_off_sample], columns=['chrom', 'pos'])\n",
    "    \n",
    "    # Convert position to integer\n",
    "    on_df['pos'] = on_df['pos'].astype(int)\n",
    "    off_df['pos'] = off_df['pos'].astype(int)\n",
    "    \n",
    "    on_df = pd.DataFrame({\n",
    "            'chrom': on_df['chrom'],\n",
    "            'start': on_df['pos'] - 250,\n",
    "            'stop': on_df['pos'] + 250\n",
    "        })\n",
    "    \n",
    "    off_df = pd.DataFrame({\n",
    "            'chrom': off_df['chrom'],\n",
    "            'start': off_df['pos'] - 250,\n",
    "            'stop': off_df['pos'] + 250\n",
    "        })\n",
    "    on_df.to_csv(on_name, sep=\"\\t\", index=False, header=False)\n",
    "    off_df.to_csv(off_name, sep=\"\\t\", index=False, header=False)"
   ]
  },
  {
   "cell_type": "code",
   "execution_count": 37,
   "id": "00a58ce8-0371-48d4-b7c0-a72ad6adf566",
   "metadata": {},
   "outputs": [],
   "source": [
    "get_bed_regions(MCF7_on, MCF7_off, \"./MCF7_on.bed\", \"./MCF7_off.bed\")\n",
    "get_bed_regions(SJSA_on, SJSA_off, \"./SJSA_on.bed\", \"./SJSA_off.bed\")\n",
    "get_bed_regions(HCT116_on, HCT116_off, \"./HCT116_on.bed\", \"./HCT116_off.bed\")"
   ]
  },
  {
   "cell_type": "raw",
   "id": "0e3382cf-e445-4c83-96d2-16200b7eb8a6",
   "metadata": {},
   "source": [
    "HG38=/Users/hopekirby/Downloads/assets/hg38.fa\n",
    "bedtools getfasta -fi ${HG38} -bed MCF7_on.bed > MCF7_on.fa\n",
    "bedtools getfasta -fi ${HG38} -bed MCF7_off.bed > MCF7_off.fa\n",
    "bedtools getfasta -fi ${HG38} -bed SJSA_on.bed > SJSA_on.fa\n",
    "bedtools getfasta -fi ${HG38} -bed SJSA_off.bed > SJSA_off.fa\n",
    "bedtools getfasta -fi ${HG38} -bed HCT116_on.bed > HCT116_on.fa\n",
    "bedtools getfasta -fi ${HG38} -bed HCT116_off.bed > HCT116_off.fa"
   ]
  },
  {
   "cell_type": "code",
   "execution_count": 2,
   "id": "4caffb5d-053f-418f-9acd-8bae58e66d6b",
   "metadata": {},
   "outputs": [],
   "source": [
    "## Make dfs for on and off\n",
    "def get_on_off_df(celltype):\n",
    "    on_file = \"\".join([celltype, \"_on.fa\"])\n",
    "    on = pd.read_csv(on_file, sep=\"\\t\", header=None)\n",
    "    on = on[~on.iloc[:, 0].str.contains(\">\", na=False)]\n",
    "    on[\"Status\"] = 1\n",
    "\n",
    "    off_file = \"\".join([celltype, \"_off.fa\"])\n",
    "    off = pd.read_csv(off_file, sep=\"\\t\", header=None)\n",
    "    off = off[~off.iloc[:, 0].str.contains(\">\", na=False)]\n",
    "    off[\"Status\"] = 0\n",
    "\n",
    "    full_df = pd.concat([on, off])\n",
    "    full_df.columns = [\"sequence\", \"label\"]\n",
    "    return full_df\n",
    "\n",
    "MCF7_df = get_on_off_df(\"MCF7\")\n",
    "SJSA_df = get_on_off_df(\"SJSA\")\n",
    "HCT116_df = get_on_off_df(\"HCT116\")"
   ]
  },
  {
   "cell_type": "markdown",
   "id": "cfbffb95-d767-4301-a41b-60bcd53eaf28",
   "metadata": {},
   "source": [
    "## 3. Fine Tuning with the DNABERT-2 model\n",
    "THis is essentially identical to the toy dataset but we are using data from one of the celltypes instead.\n",
    "Instead of using all 2000 off regions, I only consider the first 1000 regions (all 43 on regions and 957 off regions)."
   ]
  },
  {
   "cell_type": "code",
   "execution_count": 9,
   "id": "b87d241e-a1be-4f3a-84b8-08061e1fa2be",
   "metadata": {},
   "outputs": [
    {
     "name": "stderr",
     "output_type": "stream",
     "text": [
      "Map: 100%|████████████████████████████████| 750/750 [00:00<00:00, 3517.48 examples/s]\n",
      "Map: 100%|████████████████████████████████| 250/250 [00:00<00:00, 3330.04 examples/s]\n",
      "Some weights of the model checkpoint at zhihan1996/DNABERT-2-117M were not used when initializing BertForSequenceClassification: ['cls.predictions.transform.LayerNorm.bias', 'cls.predictions.decoder.bias', 'cls.predictions.transform.dense.bias', 'cls.predictions.decoder.weight', 'cls.predictions.transform.LayerNorm.weight', 'cls.predictions.transform.dense.weight']\n",
      "- This IS expected if you are initializing BertForSequenceClassification from the checkpoint of a model trained on another task or with another architecture (e.g. initializing a BertForSequenceClassification model from a BertForPreTraining model).\n",
      "- This IS NOT expected if you are initializing BertForSequenceClassification from the checkpoint of a model that you expect to be exactly identical (initializing a BertForSequenceClassification model from a BertForSequenceClassification model).\n",
      "Some weights of BertForSequenceClassification were not initialized from the model checkpoint at zhihan1996/DNABERT-2-117M and are newly initialized: ['bert.pooler.dense.weight', 'bert.pooler.dense.bias', 'classifier.bias', 'classifier.weight']\n",
      "You should probably TRAIN this model on a down-stream task to be able to use it for predictions and inference.\n"
     ]
    }
   ],
   "source": [
    "MCF7_df = MCF7_df.iloc[0:1000,]\n",
    "# Split the data\n",
    "train_texts, val_texts, train_labels, val_labels = train_test_split(MCF7_df['sequence'], \n",
    "                                                                    MCF7_df['label'], test_size=0.25)\n",
    "\n",
    "# Convert into Dataset format\n",
    "train_dataset = Dataset.from_dict({\"sequence\": train_texts.tolist(), \"label\": train_labels.tolist()})\n",
    "val_dataset = Dataset.from_dict({\"sequence\": val_texts.tolist(), \"label\": val_labels.tolist()})\n",
    "\n",
    "# =============================\n",
    "#  4. Tokenize the datasets\n",
    "# =============================\n",
    "model_name = \"zhihan1996/DNABERT-2-117M\"\n",
    "tokenizer = AutoTokenizer.from_pretrained(model_name, trust_remote_code=True)\n",
    "\n",
    "# pad shorter sequences to the longest one in the batch. Truncate shorter than 512 tokens\n",
    "def tokenize_function(examples):\n",
    "    return tokenizer(examples[\"sequence\"], padding=\"max_length\", truncation=True, max_length=512)\n",
    "\n",
    "train_dataset = train_dataset.map(tokenize_function, batched=True)\n",
    "val_dataset = val_dataset.map(tokenize_function, batched=True)\n",
    "\n",
    "train_dataset.set_format(type=\"torch\", columns=[\"input_ids\", \"attention_mask\", \"label\"])\n",
    "val_dataset.set_format(type=\"torch\", columns=[\"input_ids\", \"attention_mask\", \"label\"])\n",
    "\n",
    "# =============================\n",
    "#  5. Define Training Arguments\n",
    "# =============================\n",
    "training_args = TrainingArguments(\n",
    "    output_dir=\"./results\",\n",
    "    evaluation_strategy=\"epoch\",\n",
    "    save_strategy=\"epoch\",\n",
    "    logging_strategy=\"epoch\",\n",
    "    num_train_epochs=3,\n",
    "    per_device_train_batch_size=2,\n",
    "    per_device_eval_batch_size=2,\n",
    "    load_best_model_at_end=True,\n",
    "    metric_for_best_model=\"accuracy\",\n",
    ")\n",
    "\n",
    "# =============================\n",
    "# 🚀 6. Define Trainer\n",
    "# =============================\n",
    "model = AutoModelForSequenceClassification.from_pretrained(model_name, trust_remote_code=True, num_labels=2)\n",
    "\n",
    "#model = AutoModelForSequenceClassification.from_pretrained(\"zhihan1996/DNABERT-2-117M\", trust_remote_code=True, num_labels=2)\n"
   ]
  },
  {
   "cell_type": "code",
   "execution_count": 10,
   "id": "bbb2fb27-04b3-475a-b4a8-42e908a662c4",
   "metadata": {},
   "outputs": [
    {
     "data": {
      "text/html": [
       "\n",
       "    <div>\n",
       "      \n",
       "      <progress value='1125' max='1125' style='width:300px; height:20px; vertical-align: middle;'></progress>\n",
       "      [1125/1125 1:34:48, Epoch 3/3]\n",
       "    </div>\n",
       "    <table border=\"1\" class=\"dataframe\">\n",
       "  <thead>\n",
       " <tr style=\"text-align: left;\">\n",
       "      <th>Epoch</th>\n",
       "      <th>Training Loss</th>\n",
       "      <th>Validation Loss</th>\n",
       "      <th>Accuracy</th>\n",
       "    </tr>\n",
       "  </thead>\n",
       "  <tbody>\n",
       "    <tr>\n",
       "      <td>1</td>\n",
       "      <td>0.652600</td>\n",
       "      <td>0.665355</td>\n",
       "      <td>0.796000</td>\n",
       "    </tr>\n",
       "    <tr>\n",
       "      <td>2</td>\n",
       "      <td>0.681600</td>\n",
       "      <td>0.671504</td>\n",
       "      <td>0.796000</td>\n",
       "    </tr>\n",
       "    <tr>\n",
       "      <td>3</td>\n",
       "      <td>0.642800</td>\n",
       "      <td>0.631771</td>\n",
       "      <td>0.796000</td>\n",
       "    </tr>\n",
       "  </tbody>\n",
       "</table><p>"
      ],
      "text/plain": [
       "<IPython.core.display.HTML object>"
      ]
     },
     "metadata": {},
     "output_type": "display_data"
    },
    {
     "data": {
      "text/plain": [
       "TrainOutput(global_step=1125, training_loss=0.6590270453559027, metrics={'train_runtime': 5693.9576, 'train_samples_per_second': 0.395, 'train_steps_per_second': 0.198, 'total_flos': 787434518016000.0, 'train_loss': 0.6590270453559027, 'epoch': 3.0})"
      ]
     },
     "execution_count": 10,
     "metadata": {},
     "output_type": "execute_result"
    }
   ],
   "source": [
    "training_args = TrainingArguments(\n",
    "    output_dir=\"./results\",\n",
    "    evaluation_strategy=\"epoch\",\n",
    "    save_strategy=\"epoch\",\n",
    "    logging_strategy=\"epoch\",\n",
    "    num_train_epochs=3,\n",
    "    per_device_train_batch_size=2,\n",
    "    per_device_eval_batch_size=2,\n",
    "    load_best_model_at_end=True,\n",
    "    metric_for_best_model=\"accuracy\",\n",
    ")\n",
    "def compute_metrics(eval_pred):\n",
    "    logits, labels = eval_pred  # This returns a tuple (logits, labels)\n",
    "    \n",
    "    # Extract the logits tensor from the tuple, if needed\n",
    "    logits = logits[0]  # In case logits is a tuple, take the first element\n",
    "    \n",
    "    # Convert logits to a PyTorch tensor (if it's not already)\n",
    "    logits = torch.tensor(logits)\n",
    "    \n",
    "    # If logits are 3D, take argmax along the second axis (sequence length axis)\n",
    "    logits = logits.argmax(dim=-1)  # Shape will now be (batch_size,)\n",
    "    \n",
    "    # Flatten the logits and labels to compare them\n",
    "    preds = logits.flatten()\n",
    "    labels = labels.flatten()\n",
    "\n",
    "    # Calculate accuracy\n",
    "    return {\"accuracy\": accuracy_score(labels, preds)}\n",
    "\n",
    "\n",
    "trainer = Trainer(\n",
    "    model=model,\n",
    "    args=training_args,\n",
    "    train_dataset=train_dataset,\n",
    "    eval_dataset=val_dataset,\n",
    "    compute_metrics=compute_metrics,\n",
    ")\n",
    "\n",
    "# =============================\n",
    "#  7. Fine-tune the Model\n",
    "# =============================\n",
    "trainer.train()"
   ]
  },
  {
   "cell_type": "code",
   "execution_count": 11,
   "id": "6232aba8-8588-45b6-9148-e4318a5b7ca3",
   "metadata": {},
   "outputs": [],
   "source": [
    "with open(\"model.pkl\", \"wb\") as f:\n",
    "    pickle.dump(model, f)"
   ]
  },
  {
   "cell_type": "markdown",
   "id": "03cf65e8-cfa8-441c-9fb4-a371eb315c9f",
   "metadata": {},
   "source": [
    "### Interpretation\n",
    "* The training loss and validation loss are very similar to one another and the accuracy and loss don't seem to be significantly changing. This is likely because the model hasn't learned anything significant yet. Therefore, I should probably have used more epochs for training.\n",
    "* When I ran with 2000 off regions instead of just 957 I got a higher accuracy (about 0.9) but this might just be because it is doing well on the off regions rather than the on."
   ]
  },
  {
   "cell_type": "markdown",
   "id": "118b2746-94c6-42f6-ae1c-68fb6692b4b5",
   "metadata": {},
   "source": [
    "## 4. GET SHAP Values for the model\n",
    "Like last time we can get the SHAP values of the tokens to see which tokens are the most important in determining whether a call is on or off.\n",
    "\n",
    "We expect the P53 motif (CATG being the cleanest component) to be an important token given we are trying to predict P53 responsive enhancers. Therefore, let's look at the SHAP values based on interogating regions we KNOW have the motif.\n",
    "* get_fimo_results is finding the regions that have a P53 motif within 250 bp of the center (therefore within the region BERT2 was studying).\n",
    "* get_motif_sequences is getting the sequences of the regions with a motif\n",
    "* predict_fn is like last time where it just summarizes the way our model is run to predict something so that SHAP can use it "
   ]
  },
  {
   "cell_type": "code",
   "execution_count": 12,
   "id": "1879cf5c-999a-4fd3-94ff-9c1639cd03aa",
   "metadata": {},
   "outputs": [
    {
     "name": "stdout",
     "output_type": "stream",
     "text": [
      "\n",
      "Number regions <300 MUDIFF: 1626\n"
     ]
    }
   ],
   "source": [
    "# choose some sequences that have the P53 motif in it (what we expect to be causing the difference\n",
    "# Load FIMO results\n",
    "def get_fimo_results(fimo_file):\n",
    "    # Load file assuming it's tab-delimited\n",
    "    fimo_p53 = pd.read_csv(fimo_file, sep='\\t')\n",
    "\n",
    "    # Split sequence_name into chromosome and range\n",
    "    split1 = fimo_p53['sequence_name'].str.split(\":\", expand=True)\n",
    "    chrom = split1[0]\n",
    "    positions = split1[1].str.split(\"-\", expand=True).astype(int)\n",
    "\n",
    "    # Compute mu (midpoint of region)\n",
    "    mu = ((positions[0] + positions[1]) / 2).astype(int)\n",
    "    fimo_p53['mu'] = mu\n",
    "\n",
    "    # Compute motif position relative to region start\n",
    "    fimo_p53['motif'] = fimo_p53['start'] + positions[1] - 10000\n",
    "\n",
    "    # Calculate MUDIFF as absolute difference\n",
    "    fimo_p53['MUDIFF'] = (fimo_p53['motif'] - fimo_p53['mu']).abs().astype(int)\n",
    "\n",
    "    # Create unique region name\n",
    "    fimo_p53['name'] = chrom + \":\" + mu.astype(str)\n",
    "\n",
    "    # Optional: Print summary and motif < 250bp\n",
    "    motif = fimo_p53[fimo_p53['MUDIFF'] < 250]\n",
    "    print(\"\\nNumber regions <300 MUDIFF:\", motif['name'].nunique())\n",
    "\n",
    "    return motif\n",
    "fimo_file=\"/Users/hopekirby/Desktop/TF_Enh_Linking/Bench_DE/p53/data/overlaps/P53.H12CORE.0.P.B_p1e6.fimo.bed\"\n",
    "motif_250 = get_fimo_results(fimo_file)\n"
   ]
  },
  {
   "cell_type": "code",
   "execution_count": 13,
   "id": "922d2337-eb44-4d48-acae-50597b2485dc",
   "metadata": {},
   "outputs": [
    {
     "name": "stdout",
     "output_type": "stream",
     "text": [
      "Number on sequences with motif within 250bp: 43\n"
     ]
    }
   ],
   "source": [
    "# choose a subset of sequences\n",
    "def get_motif_sequences(on_bed_file, sequence_df):\n",
    "    on_bed = pd.read_csv(on_bed_file, sep=\"\\t\", header=None)\n",
    "    mu = ((on_bed[1].astype(int) + on_bed[2].astype(int)) // 2)\n",
    "    # Slice and copy sequence_df to avoid SettingWithCopyWarning\n",
    "    sequence_on_df = sequence_df.iloc[0:on_bed.shape[0], :].copy()\n",
    "    # Create 'name' column using .loc to avoid warnings\n",
    "    sequence_on_df.loc[:, 'name'] = on_bed[0] + \":\" + mu.astype(str)\n",
    "    # Ensure motif_250 is a list/Series of names\n",
    "    motif_names = motif_250['name'].tolist() if hasattr(motif_250, 'name') else list(motif_250)\n",
    "    # Filter by motif presence\n",
    "    motif_sequences = sequence_on_df[sequence_on_df['name'].isin(motif_names)]\n",
    "    print(\"Number on sequences with motif within 250bp:\", motif_sequences.shape[0])\n",
    "    return(motif_sequences.sequence.tolist())\n",
    "\n",
    "MCF7_moton_seq = get_motif_sequences(\"./MCF7_on.bed\", MCF7_df)\n",
    "#MCF7_moton_seq\n",
    "\n"
   ]
  },
  {
   "cell_type": "code",
   "execution_count": 14,
   "id": "533c7bf2-511c-4db6-9742-33f6879e6046",
   "metadata": {},
   "outputs": [
    {
     "name": "stdout",
     "output_type": "stream",
     "text": [
      "torch.Size([3, 2])\n"
     ]
    },
    {
     "name": "stderr",
     "output_type": "stream",
     "text": [
      "  0%|                                                          | 0/3 [00:00<?, ?it/s]"
     ]
    },
    {
     "name": "stdout",
     "output_type": "stream",
     "text": [
      "torch.Size([1, 2])\n",
      "torch.Size([3000, 2])\n"
     ]
    },
    {
     "name": "stderr",
     "output_type": "stream",
     "text": [
      " 33%|███████████████▎                              | 1/3 [30:28<1:00:56, 1828.37s/it]"
     ]
    },
    {
     "name": "stdout",
     "output_type": "stream",
     "text": [
      "torch.Size([1, 2])\n",
      "torch.Size([3000, 2])\n"
     ]
    },
    {
     "name": "stderr",
     "output_type": "stream",
     "text": [
      " 67%|████████████████████████████████                | 2/3 [58:13<28:52, 1732.14s/it]"
     ]
    },
    {
     "name": "stdout",
     "output_type": "stream",
     "text": [
      "torch.Size([1, 2])\n",
      "torch.Size([3000, 2])\n"
     ]
    },
    {
     "name": "stderr",
     "output_type": "stream",
     "text": [
      "100%|██████████████████████████████████████████████| 3/3 [1:27:12<00:00, 1744.29s/it]\n"
     ]
    }
   ],
   "source": [
    "# Create a function to predict the model's outputs\n",
    "def predict_fn(input_ids):\n",
    "    input_ids = torch.tensor(input_ids)  # Ensure input_ids is a PyTorch tensor\n",
    "    # no_grad() means that gradients aren't tracked (unnecessary since we're not training the model)\n",
    "    with torch.no_grad():\n",
    "        outputs = model(input_ids=input_ids)\n",
    "        logits = outputs.logits\n",
    "        # If logits is a tuple, take the first element\n",
    "        logits = logits  # Shape should be (batch_size, num_classes)\n",
    "        print(logits.shape)\n",
    "    \n",
    "    # Apply softmax to get probabilities for each class\n",
    "    probabilities = torch.nn.Softmax(dim=-1)(logits).numpy()  # Shape will be (batch_size, num_classes)\n",
    "    \n",
    "    return probabilities  # Return probabilities for each class\n",
    "\n",
    "\n",
    "# Tokenize a sample input (to be used in SHAP)\n",
    "tokenized_samples = tokenizer(MCF7_moton_seq[1:4], padding=True, truncation=True, max_length=512, return_tensors=\"pt\")\n",
    "\n",
    "# Explain predictions using SHAP\n",
    "explainer = shap.KernelExplainer(predict_fn, tokenized_samples['input_ids'].numpy())\n",
    "shap_values = explainer.shap_values(tokenized_samples['input_ids'].numpy(), nsamples=1000)\n",
    "\n"
   ]
  },
  {
   "cell_type": "code",
   "execution_count": 40,
   "id": "b78e6fa2-9bbb-40d1-8051-46b46e12dcda",
   "metadata": {},
   "outputs": [
    {
     "name": "stdout",
     "output_type": "stream",
     "text": [
      "Predicted class: 0\n",
      "\n",
      "Predicted class: 0\n",
      "\n",
      "Predicted class: 0\n",
      "\n"
     ]
    }
   ],
   "source": [
    "# see how well the model works on the regions of interest\n",
    "\n",
    "with torch.no_grad():\n",
    "    outputs = model(**tokenized_samples)\n",
    "    logits = outputs.logits\n",
    "    predictions = torch.argmax(logits, dim=1).tolist()\n",
    "\n",
    "\n",
    "# Print results\n",
    "for pred in predictions:\n",
    "    print(f\"Predicted class: {pred}\\n\")"
   ]
  },
  {
   "cell_type": "code",
   "execution_count": 15,
   "id": "3378e0d2-12a8-41c7-a427-0996d79def56",
   "metadata": {},
   "outputs": [],
   "source": [
    "# Save the shap_values object to a file\n",
    "with open(\"shap_values.pkl\", \"wb\") as f:\n",
    "    pickle.dump(shap_values, f)\n",
    "\n",
    "# Also save the input data if you want (optional but helpful)\n",
    "with open(\"tokenized_input_ids.pkl\", \"wb\") as f:\n",
    "    pickle.dump(tokenized_samples['input_ids'].numpy(), f)"
   ]
  },
  {
   "cell_type": "code",
   "execution_count": 28,
   "id": "9bf268a3-ff0b-4b28-b632-b6206adcfc97",
   "metadata": {},
   "outputs": [
    {
     "name": "stdout",
     "output_type": "stream",
     "text": [
      "['[CLS]', 'GAATCA', 'GGTG', 'CCCTG', 'TCCTGA', 'CATG', 'TCCCA', 'GAGA', 'CACA', 'GCTT', 'GAGTG', 'GGAAA', 'TGAGG', 'GAGG', 'TGAGTCA', 'GG', 'GCTGGG', 'TGTT', 'GGGG', 'GCAA', 'GAGAAA', 'GGGG', 'CAGGAGG', 'TCTG', 'TCCCATT', 'TCTGA', 'GGACACA', 'GGGA', 'CCAGG', 'GCTG', 'GCAGGAA', 'CCA', 'GGAAA', 'GGGTG', 'GGTT', 'CCCCA', 'GGGTG', 'GGAATT', 'GCACAGG', 'GTTGG', 'CTCA', 'GTGGG', 'TCTTTG', 'GCCCAA', 'GGCC', 'TCCA', 'CCTCTCC', 'TGGG', 'TTACAGG', 'CTCA', 'GGCAGG', 'CCCC', 'GGAAA', 'GCAGGA', 'CTGCAGG', 'CGG', 'CATA', 'GGGG', 'CGGA', 'TGGG', 'GCGAGG', 'CTGGAA', 'GGCA', 'TCTT', 'GC', 'CACATT', 'GTCTAGG', 'GAAGAA', 'CCAATG', 'CTGA', 'GGCC', 'TGA', 'GAATA', 'GTGA', 'GATA', 'GCC', 'GCGC', 'GATG', 'TCACCTG', 'CACAA', 'TGCA', 'CTAA', 'GATCAA', 'CAGGA', 'GACCTG', 'GCAGG', 'GGAGGAGG', 'GAGGGCA', 'TCCTG', 'TCTCTCCA', 'GCCCC', 'CTCC', 'CC', 'GCCTCC', 'TA', 'TGAGG', 'CCTG', 'CCCA', 'CTC', 'TGTGTG', 'CTGCC', 'CGCTG', 'CAGC', 'GG', '[SEP]']\n",
      "['Position 0: [CLS]', 'Position 1: GAATCA', 'Position 2: GGTG', 'Position 3: CCCTG', 'Position 4: TCCTGA', 'Position 5: CATG', 'Position 6: TCCCA', 'Position 7: GAGA', 'Position 8: CACA', 'Position 9: GCTT', 'Position 10: GAGTG', 'Position 11: GGAAA', 'Position 12: TGAGG', 'Position 13: GAGG', 'Position 14: TGAGTCA', 'Position 15: GG', 'Position 16: GCTGGG', 'Position 17: TGTT', 'Position 18: GGGG', 'Position 19: GCAA', 'Position 20: GAGAAA', 'Position 21: GGGG', 'Position 22: CAGGAGG', 'Position 23: TCTG', 'Position 24: TCCCATT', 'Position 25: TCTGA', 'Position 26: GGACACA', 'Position 27: GGGA', 'Position 28: CCAGG', 'Position 29: GCTG', 'Position 30: GCAGGAA', 'Position 31: CCA', 'Position 32: GGAAA', 'Position 33: GGGTG', 'Position 34: GGTT', 'Position 35: CCCCA', 'Position 36: GGGTG', 'Position 37: GGAATT', 'Position 38: GCACAGG', 'Position 39: GTTGG', 'Position 40: CTCA', 'Position 41: GTGGG', 'Position 42: TCTTTG', 'Position 43: GCCCAA', 'Position 44: GGCC', 'Position 45: TCCA', 'Position 46: CCTCTCC', 'Position 47: TGGG', 'Position 48: TTACAGG', 'Position 49: CTCA', 'Position 50: GGCAGG', 'Position 51: CCCC', 'Position 52: GGAAA', 'Position 53: GCAGGA', 'Position 54: CTGCAGG', 'Position 55: CGG', 'Position 56: CATA', 'Position 57: GGGG', 'Position 58: CGGA', 'Position 59: TGGG', 'Position 60: GCGAGG', 'Position 61: CTGGAA', 'Position 62: GGCA', 'Position 63: TCTT', 'Position 64: GC', 'Position 65: CACATT', 'Position 66: GTCTAGG', 'Position 67: GAAGAA', 'Position 68: CCAATG', 'Position 69: CTGA', 'Position 70: GGCC', 'Position 71: TGA', 'Position 72: GAATA', 'Position 73: GTGA', 'Position 74: GATA', 'Position 75: GCC', 'Position 76: GCGC', 'Position 77: GATG', 'Position 78: TCACCTG', 'Position 79: CACAA', 'Position 80: TGCA', 'Position 81: CTAA', 'Position 82: GATCAA', 'Position 83: CAGGA', 'Position 84: GACCTG', 'Position 85: GCAGG', 'Position 86: GGAGGAGG', 'Position 87: GAGGGCA', 'Position 88: TCCTG', 'Position 89: TCTCTCCA', 'Position 90: GCCCC', 'Position 91: CTCC', 'Position 92: CC', 'Position 93: GCCTCC', 'Position 94: TA', 'Position 95: TGAGG', 'Position 96: CCTG', 'Position 97: CCCA', 'Position 98: CTC', 'Position 99: TGTGTG', 'Position 100: CTGCC', 'Position 101: CGCTG', 'Position 102: CAGC', 'Position 103: GG', 'Position 104: [SEP]']\n"
     ]
    }
   ],
   "source": [
    "## Assigning sequence back to tokens\n",
    "\n",
    "tokens = tokenizer.convert_ids_to_tokens(tokenized_samples['input_ids'].numpy()[0].tolist())\n",
    "\n",
    "print(tokens)  # You should now see actual tokens like 'ATG', 'GCGC', etc.\n",
    "\n",
    "# Create a list of token positions\n",
    "token_positions = [f\"Position {idx}: {token}\" for idx, token in enumerate(tokens)]\n",
    "print(token_positions)"
   ]
  },
  {
   "cell_type": "code",
   "execution_count": 35,
   "id": "066c3c2a-9b2a-46c8-be6d-2a36c734493e",
   "metadata": {},
   "outputs": [
    {
     "data": {
      "text/plain": [
       "2"
      ]
     },
     "execution_count": 35,
     "metadata": {},
     "output_type": "execute_result"
    }
   ],
   "source": [
    "len(token_positions)\n",
    "len(shap_values)"
   ]
  },
  {
   "cell_type": "code",
   "execution_count": 31,
   "id": "a06879cd-78f3-4e86-859d-32b635323dc2",
   "metadata": {},
   "outputs": [
    {
     "data": {
      "text/plain": [
       "dict_keys(['Position 0: [CLS]', 'Position 1: GAATCA', 'Position 2: GGTG'])"
      ]
     },
     "execution_count": 31,
     "metadata": {},
     "output_type": "execute_result"
    }
   ],
   "source": [
    "shap_dict = dict(zip(token_positions, shap_values[0]))\n",
    "shap_dict.keys()"
   ]
  },
  {
   "cell_type": "code",
   "execution_count": 29,
   "id": "0c7e9f30-afae-4c59-8927-783075745d9f",
   "metadata": {},
   "outputs": [
    {
     "data": {
      "image/png": "[encoded data removed]",
      "text/plain": [
       "<Figure size 800x950 with 2 Axes>"
      ]
     },
     "metadata": {},
     "output_type": "display_data"
    }
   ],
   "source": [
    "shap.summary_plot(shap_values[0], \n",
    "                  tokenized_samples['input_ids'].numpy(), \n",
    "                  feature_names=token_positions)"
   ]
  },
  {
   "cell_type": "markdown",
   "id": "eed38286-239a-4352-b6bc-ba0cd5d45f9c",
   "metadata": {},
   "source": [
    "#### Interpretation: \n",
    "The P53 motif is no where really to be seen as having a significant SHAP value and no clear token is having a clean and obvious impact (check out the Testing_BERT_Toy.ipynb to shee a clean result). Despite our model having 80% accuracy, it clearly is not doing a good job of capturing what we expect. Therefore, let's see how well the model is doing at predicting the regions we know should be called on simply with the presence of a P53 motif."
   ]
  },
  {
   "cell_type": "markdown",
   "id": "7701035d-3b37-437b-bc77-05bf3fca12fb",
   "metadata": {},
   "source": [
    "### Which of the expected TPs are called correctly for SHAP evaluation"
   ]
  },
  {
   "cell_type": "code",
   "execution_count": 41,
   "id": "920bcad0-ecba-4cc8-b40a-03f85e3fd8e0",
   "metadata": {},
   "outputs": [
    {
     "name": "stdout",
     "output_type": "stream",
     "text": [
      "Predicted class: 0\n",
      "\n",
      "Predicted class: 0\n",
      "\n",
      "Predicted class: 0\n",
      "\n",
      "Predicted class: 0\n",
      "\n",
      "Predicted class: 0\n",
      "\n",
      "Predicted class: 0\n",
      "\n",
      "Predicted class: 0\n",
      "\n",
      "Predicted class: 0\n",
      "\n",
      "Predicted class: 0\n",
      "\n",
      "Predicted class: 0\n",
      "\n",
      "Predicted class: 0\n",
      "\n",
      "Predicted class: 0\n",
      "\n",
      "Predicted class: 0\n",
      "\n",
      "Predicted class: 0\n",
      "\n",
      "Predicted class: 0\n",
      "\n",
      "Predicted class: 0\n",
      "\n",
      "Predicted class: 0\n",
      "\n",
      "Predicted class: 0\n",
      "\n",
      "Predicted class: 0\n",
      "\n",
      "Predicted class: 0\n",
      "\n",
      "Predicted class: 0\n",
      "\n",
      "Predicted class: 0\n",
      "\n",
      "Predicted class: 0\n",
      "\n",
      "Predicted class: 0\n",
      "\n",
      "Predicted class: 0\n",
      "\n",
      "Predicted class: 0\n",
      "\n",
      "Predicted class: 0\n",
      "\n",
      "Predicted class: 0\n",
      "\n",
      "Predicted class: 0\n",
      "\n",
      "Predicted class: 0\n",
      "\n",
      "Predicted class: 0\n",
      "\n",
      "Predicted class: 0\n",
      "\n",
      "Predicted class: 0\n",
      "\n",
      "Predicted class: 0\n",
      "\n",
      "Predicted class: 0\n",
      "\n",
      "Predicted class: 0\n",
      "\n",
      "Predicted class: 0\n",
      "\n",
      "Predicted class: 0\n",
      "\n",
      "Predicted class: 0\n",
      "\n",
      "Predicted class: 0\n",
      "\n",
      "Predicted class: 0\n",
      "\n",
      "Predicted class: 0\n",
      "\n",
      "Predicted class: 0\n",
      "\n"
     ]
    }
   ],
   "source": [
    "tokenized_samples = tokenizer(MCF7_moton_seq, padding=True, truncation=True, max_length=512, return_tensors=\"pt\")\n",
    "\n",
    "with torch.no_grad():\n",
    "    outputs = model(**tokenized_samples)\n",
    "    logits = outputs.logits\n",
    "    predictions = torch.argmax(logits, dim=1).tolist()\n",
    "\n",
    "\n",
    "# Print results\n",
    "for pred in predictions:\n",
    "    print(f\"Predicted class: {pred}\\n\")\n"
   ]
  },
  {
   "cell_type": "markdown",
   "id": "a9268db9-16cb-4cd8-b3ed-04afcf6d59ef",
   "metadata": {},
   "source": [
    "#### Interpretation\n",
    "None of the regions are called on. This means that are model is NOT effective. The 80% accuracy is likely because it is simply predicting the off regions successfully off. If the model assumed everything was off, it would still be about 957/1000 = 96% accurate despite that being a ridiculous solution. Therefore, let's see if we can improve training and evaluation of the model with a super imablanced class size."
   ]
  },
  {
   "cell_type": "markdown",
   "id": "8b79751b-ad05-43e4-b324-5cc535b91e6d",
   "metadata": {},
   "source": [
    "## 5. Better addressing imbalanced class size\n",
    "Possible Solutions:\n",
    "1. **Create more balanced classes:** Originally used about 950 negative regions and 43 positive regions. Now I can try about 450 negative regions and 43 positive regions. We don't want to remove most negative regions since there might be some important things the model can learn still.\n",
    "2. **Not using metrics that are biased by class sizes**\n",
    "    * A model's parameters are changed after each epoch/batch to try to minimize the *loss function.* The trained models are then evaluated on a validation dataset the model has never seen before. The best model among those is chosen based on a decided metric (NOT the loss function) like accuracy.\n",
    "    * Problems with biased class sizes:\n",
    "      * The loss function is looking at error and doesn't care abotu class size. Therefore, if it calls nothing changing at all (which is stupid), it can still do well if like 90% of the dataset isn't changing.\n",
    "      * Accuracy has the same problem as above. We can get a high accuracy for more than 90% of the dataset by just saying nothing changes\n",
    "    * Solutions\n",
    "        * We can edit the loss function so that the model will care more about getting a specific class correct. We do this with a *Weighted loss function* where the class we care more about (are 1s) are weighted more strongly in the loss function as determining how well the model is doing.\n",
    "        * We can use a metric for choosing the final best model that is not as reliant on class balance. F1 scores weight false positives/negatives more than accuracy and tends to be better for imbalanced classes. Weighted F1 scores (F-beta) that weight recall over precision might be even better."
   ]
  },
  {
   "cell_type": "markdown",
   "id": "defc2acb-0f75-40f0-9e72-91afff8b9b32",
   "metadata": {},
   "source": [
    "### A. Using more balanced class sizes"
   ]
  },
  {
   "cell_type": "code",
   "execution_count": 46,
   "id": "03175508-cb06-4c7f-a22f-9a3faaa207f5",
   "metadata": {},
   "outputs": [
    {
     "name": "stderr",
     "output_type": "stream",
     "text": [
      "`resume_download` is deprecated and will be removed in version 1.0.0. Downloads always resume when possible. If you want to force a new download, use `force_download=True`.\n",
      "Map: 100%|████████████████████████████████| 375/375 [00:00<00:00, 1540.19 examples/s]\n",
      "Map: 100%|████████████████████████████████| 125/125 [00:00<00:00, 2572.12 examples/s]\n"
     ]
    }
   ],
   "source": [
    "MCF7_df = MCF7_df.iloc[0:500,]\n",
    "# Split the data\n",
    "train_texts, val_texts, train_labels, val_labels = train_test_split(MCF7_df['sequence'], \n",
    "                                                                    MCF7_df['label'], test_size=0.25)\n",
    "\n",
    "# Convert into Dataset format\n",
    "train_dataset = Dataset.from_dict({\"sequence\": train_texts.tolist(), \"label\": train_labels.tolist()})\n",
    "val_dataset = Dataset.from_dict({\"sequence\": val_texts.tolist(), \"label\": val_labels.tolist()})\n",
    "\n",
    "# =============================\n",
    "#  4. Tokenize the datasets\n",
    "# =============================\n",
    "model_name = \"zhihan1996/DNABERT-2-117M\"\n",
    "tokenizer = AutoTokenizer.from_pretrained(model_name, trust_remote_code=True)\n",
    "\n",
    "# pad shorter sequences to the longest one in the batch. Truncate shorter than 512 tokens\n",
    "def tokenize_function(examples):\n",
    "    return tokenizer(examples[\"sequence\"], padding=\"max_length\", truncation=True, max_length=512)\n",
    "\n",
    "train_dataset = train_dataset.map(tokenize_function, batched=True)\n",
    "val_dataset = val_dataset.map(tokenize_function, batched=True)\n",
    "\n",
    "train_dataset.set_format(type=\"torch\", columns=[\"input_ids\", \"attention_mask\", \"label\"])\n",
    "val_dataset.set_format(type=\"torch\", columns=[\"input_ids\", \"attention_mask\", \"label\"])"
   ]
  },
  {
   "cell_type": "markdown",
   "id": "1fe3644c-1cef-4eb8-ac8a-d7cd03a293a8",
   "metadata": {},
   "source": [
    "### B. Using f1 score to evaluate models rather than accuracy to capture recall better"
   ]
  },
  {
   "cell_type": "code",
   "execution_count": 50,
   "id": "bf86cc07-c8fc-4fcd-a11d-a795ac59f01a",
   "metadata": {},
   "outputs": [],
   "source": [
    "from sklearn.metrics import precision_recall_fscore_support, accuracy_score, roc_auc_score"
   ]
  },
  {
   "cell_type": "code",
   "execution_count": 48,
   "id": "fa503313-864f-4a95-ae33-bee08e02b943",
   "metadata": {},
   "outputs": [],
   "source": [
    "\n",
    "def compute_metrics(eval_pred):\n",
    "    logits, labels = eval_pred\n",
    "    logits = torch.tensor(logits[0])  # assuming logits is a tuple\n",
    "    preds = logits.argmax(dim=-1)\n",
    "    labels = labels.flatten()\n",
    "    preds = preds.flatten()\n",
    "\n",
    "    precision, recall, f1, _ = precision_recall_fscore_support(labels, preds, average='binary', zero_division=0)\n",
    "    acc = accuracy_score(labels, preds)\n",
    "\n",
    "    return {\n",
    "        \"accuracy\": acc,\n",
    "        \"precision\": precision,\n",
    "        \"recall\": recall,\n",
    "        \"f1\": f1,\n",
    "    }\n",
    "\n",
    "training_args = TrainingArguments(\n",
    "    output_dir=\"./results\",\n",
    "    evaluation_strategy=\"epoch\",\n",
    "    save_strategy=\"epoch\",\n",
    "    logging_strategy=\"epoch\",\n",
    "    num_train_epochs=3,\n",
    "    per_device_train_batch_size=3,\n",
    "    per_device_eval_batch_size=3,\n",
    "    load_best_model_at_end=True,\n",
    "    metric_for_best_model=\"f1\",\n",
    ")"
   ]
  },
  {
   "cell_type": "markdown",
   "id": "0d959cf1-3de4-4bb3-b291-de253a6d5d5d",
   "metadata": {},
   "source": [
    "### C. Have the loss function (used to train model) weight calling the true positives correctly more\n",
    "* The loss function is what the model is trying to minimize during training.\n",
    "* Cross Entropy is commonly used for classification problems since it considers probability distributions. Therefore we will add our weights to this loss function."
   ]
  },
  {
   "cell_type": "code",
   "execution_count": 47,
   "id": "9a70e43f-394d-4e24-9173-dbb0cbd2b75c",
   "metadata": {},
   "outputs": [],
   "source": [
    "# Define your class weights (neg=0, pos=1)\n",
    "class_weights = torch.tensor([1.0, 1000 / 43]).to(model.device)\n",
    "\n",
    "# Function to calculate the weighted loss\n",
    "def compute_weighted_loss(outputs, labels):\n",
    "    loss_fn = torch.nn.CrossEntropyLoss(weight=class_weights)\n",
    "    return loss_fn(outputs, labels)\n",
    "\n",
    "# Override compute_loss in a custom trainer\n",
    "class WeightedTrainer(Trainer):\n",
    "    def compute_loss(self, model, inputs, return_outputs=False):\n",
    "        labels = inputs.get(\"labels\")\n",
    "        outputs = model(**inputs)\n",
    "        logits = outputs.get(\"logits\")\n",
    "        loss = compute_weighted_loss(logits, labels)\n",
    "        return (loss, outputs) if return_outputs else loss\n",
    "\n",
    "# Defining the trainer as the Weighted Trainer class above rather than default Trainer class from Transformers\n",
    "trainer = WeightedTrainer(\n",
    "    model=model,\n",
    "    args=training_args,\n",
    "    train_dataset=train_dataset,\n",
    "    eval_dataset=val_dataset,\n",
    "    compute_metrics=compute_metrics,\n",
    ")"
   ]
  },
  {
   "cell_type": "code",
   "execution_count": 51,
   "id": "bbf3446c-74b7-4f3b-9a96-22f19cfb8f3d",
   "metadata": {},
   "outputs": [
    {
     "data": {
      "text/html": [
       "\n",
       "    <div>\n",
       "      \n",
       "      <progress value='375' max='375' style='width:300px; height:20px; vertical-align: middle;'></progress>\n",
       "      [375/375 1:00:05, Epoch 3/3]\n",
       "    </div>\n",
       "    <table border=\"1\" class=\"dataframe\">\n",
       "  <thead>\n",
       " <tr style=\"text-align: left;\">\n",
       "      <th>Epoch</th>\n",
       "      <th>Training Loss</th>\n",
       "      <th>Validation Loss</th>\n",
       "      <th>Accuracy</th>\n",
       "      <th>Precision</th>\n",
       "      <th>Recall</th>\n",
       "      <th>F1</th>\n",
       "    </tr>\n",
       "  </thead>\n",
       "  <tbody>\n",
       "    <tr>\n",
       "      <td>1</td>\n",
       "      <td>0.450100</td>\n",
       "      <td>0.844966</td>\n",
       "      <td>0.640000</td>\n",
       "      <td>0.540230</td>\n",
       "      <td>0.903846</td>\n",
       "      <td>0.676259</td>\n",
       "    </tr>\n",
       "    <tr>\n",
       "      <td>2</td>\n",
       "      <td>0.399700</td>\n",
       "      <td>0.912263</td>\n",
       "      <td>0.688000</td>\n",
       "      <td>0.586667</td>\n",
       "      <td>0.846154</td>\n",
       "      <td>0.692913</td>\n",
       "    </tr>\n",
       "    <tr>\n",
       "      <td>3</td>\n",
       "      <td>0.332800</td>\n",
       "      <td>0.912263</td>\n",
       "      <td>0.688000</td>\n",
       "      <td>0.586667</td>\n",
       "      <td>0.846154</td>\n",
       "      <td>0.692913</td>\n",
       "    </tr>\n",
       "  </tbody>\n",
       "</table><p>"
      ],
      "text/plain": [
       "<IPython.core.display.HTML object>"
      ]
     },
     "metadata": {},
     "output_type": "display_data"
    },
    {
     "data": {
      "text/plain": [
       "TrainOutput(global_step=375, training_loss=0.39418313598632815, metrics={'train_runtime': 3613.1796, 'train_samples_per_second': 0.311, 'train_steps_per_second': 0.104, 'total_flos': 393717259008000.0, 'train_loss': 0.39418313598632815, 'epoch': 3.0})"
      ]
     },
     "execution_count": 51,
     "metadata": {},
     "output_type": "execute_result"
    }
   ],
   "source": [
    "# =============================\n",
    "#  7. Fine-tune the Model\n",
    "# =============================\n",
    "trainer.train()"
   ]
  },
  {
   "cell_type": "code",
   "execution_count": 52,
   "id": "9034ccb0-4b19-41ba-9f4c-1b357bcd5e7a",
   "metadata": {},
   "outputs": [
    {
     "name": "stdout",
     "output_type": "stream",
     "text": [
      "Predicted class: 1\n",
      "\n",
      "Predicted class: 1\n",
      "\n",
      "Predicted class: 1\n",
      "\n",
      "Predicted class: 1\n",
      "\n",
      "Predicted class: 1\n",
      "\n",
      "Predicted class: 1\n",
      "\n",
      "Predicted class: 1\n",
      "\n",
      "Predicted class: 1\n",
      "\n",
      "Predicted class: 1\n",
      "\n",
      "Predicted class: 1\n",
      "\n",
      "Predicted class: 1\n",
      "\n",
      "Predicted class: 0\n",
      "\n",
      "Predicted class: 1\n",
      "\n",
      "Predicted class: 1\n",
      "\n",
      "Predicted class: 1\n",
      "\n",
      "Predicted class: 1\n",
      "\n",
      "Predicted class: 1\n",
      "\n",
      "Predicted class: 1\n",
      "\n",
      "Predicted class: 1\n",
      "\n",
      "Predicted class: 1\n",
      "\n",
      "Predicted class: 1\n",
      "\n",
      "Predicted class: 0\n",
      "\n",
      "Predicted class: 1\n",
      "\n",
      "Predicted class: 1\n",
      "\n",
      "Predicted class: 1\n",
      "\n",
      "Predicted class: 1\n",
      "\n",
      "Predicted class: 1\n",
      "\n",
      "Predicted class: 1\n",
      "\n",
      "Predicted class: 1\n",
      "\n",
      "Predicted class: 1\n",
      "\n",
      "Predicted class: 1\n",
      "\n",
      "Predicted class: 1\n",
      "\n",
      "Predicted class: 1\n",
      "\n",
      "Predicted class: 1\n",
      "\n",
      "Predicted class: 1\n",
      "\n",
      "Predicted class: 1\n",
      "\n",
      "Predicted class: 1\n",
      "\n",
      "Predicted class: 1\n",
      "\n",
      "Predicted class: 1\n",
      "\n",
      "Predicted class: 1\n",
      "\n",
      "Predicted class: 1\n",
      "\n",
      "Predicted class: 0\n",
      "\n",
      "Predicted class: 1\n",
      "\n"
     ]
    }
   ],
   "source": [
    "tokenized_samples = tokenizer(MCF7_moton_seq, padding=True, truncation=True, max_length=512, return_tensors=\"pt\")\n",
    "\n",
    "with torch.no_grad():\n",
    "    outputs = model(**tokenized_samples)\n",
    "    logits = outputs.logits\n",
    "    predictions = torch.argmax(logits, dim=1).tolist()\n",
    "\n",
    "\n",
    "# Print results\n",
    "for pred in predictions:\n",
    "    print(f\"Predicted class: {pred}\\n\")"
   ]
  },
  {
   "cell_type": "markdown",
   "id": "79b50edd-0af0-4950-a4db-20e862a59d72",
   "metadata": {},
   "source": [
    "#### Interpretation\n",
    "Despite the accuracy being lower, we are now actually predicting our clearly on regions as being on. Therefore, our changes helped. Having more epochs would likely allow a cleaner model. I could also include the true calls from all the cell types to allow a more balanced and larger dataset on which the model can train."
   ]
  },
  {
   "cell_type": "code",
   "execution_count": null,
   "id": "35e38272-6076-40eb-a703-3e96098ca5bb",
   "metadata": {},
   "outputs": [],
   "source": []
  }
 ],
 "metadata": {
  "kernelspec": {
   "display_name": "p38dnabert",
   "language": "python",
   "name": "p38dnabert"
  },
  "language_info": {
   "codemirror_mode": {
    "name": "ipython",
    "version": 3
   },
   "file_extension": ".py",
   "mimetype": "text/x-python",
   "name": "python",
   "nbconvert_exporter": "python",
   "pygments_lexer": "ipython3",
   "version": "3.8.20"
  }
 },
 "nbformat": 4,
 "nbformat_minor": 5
}
